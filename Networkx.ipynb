{
 "cells": [
  {
   "cell_type": "code",
   "execution_count": null,
   "id": "9a20f138",
   "metadata": {},
   "outputs": [],
   "source": [
    "#Install networkx if we don't already have it\n",
    "!pip install networkx"
   ]
  },
  {
   "cell_type": "code",
   "execution_count": null,
   "id": "e0b96224",
   "metadata": {},
   "outputs": [],
   "source": [
    "#Import the required packages\n",
    "\n",
    "import sys\n",
    "import networkx as nx \n",
    "import matplotlib.pyplot as plt\n",
    "\n",
    "%matplotlib inline\n",
    "\n",
    "print(f\"Python version {sys.version}\")\n",
    "print(f\"networkx version: {nx.__version__}\")"
   ]
  },
  {
   "cell_type": "code",
   "execution_count": null,
   "id": "ece1e15d",
   "metadata": {},
   "outputs": [],
   "source": [
    "#Let's import the ZKC graph:\n",
    "ZKC_graph = nx.karate_club_graph()\n",
    "\n",
    "#Let's keep track of which nodes represent John A and Mr Hi\n",
    "Mr_Hi = 0\n",
    "John_A = 33\n",
    "\n",
    "#Let's display the labels of which club each member ended up joining\n",
    "club_labels = nx.get_node_attributes(ZKC_graph,'club')\n",
    "\n",
    "#just show a couple of the labels\n",
    "print({key:club_labels[key] for key in range(10,16)})"
   ]
  },
  {
   "cell_type": "code",
   "execution_count": null,
   "id": "4b6cd03c",
   "metadata": {},
   "outputs": [],
   "source": [
    "#To plot using networkx we first need to get the positions we want for each node. \n",
    "#Here we will use a ciruclar layout but there are many other variations you could choose!\n",
    "circ_pos = nx.circular_layout(ZKC_graph) \n",
    "\n",
    "#Use the networkx draw function to easily visualise the graph\n",
    "nx.draw(ZKC_graph,circ_pos)\n",
    "\n",
    "#let's highlight Mr Hi (green) and John A (red)\n",
    "nx.draw_networkx_nodes(ZKC_graph, circ_pos, nodelist=[Mr_Hi], node_color='g', alpha=1)\n",
    "nx.draw_networkx_nodes(ZKC_graph, circ_pos, nodelist=[John_A], node_color='r', alpha=1)\n"
   ]
  },
  {
   "cell_type": "code",
   "execution_count": null,
   "id": "31a018d4",
   "metadata": {},
   "outputs": [],
   "source": [
    "density = nx.density(ZKC_graph)\n",
    "\n",
    "print('The edge density is: ' + str(density))"
   ]
  },
  {
   "cell_type": "code",
   "execution_count": null,
   "id": "d60c54a5",
   "metadata": {},
   "outputs": [],
   "source": [
    "#the degree function in networkx returns a DegreeView object capable of iterating through (node, degree) pairs\n",
    "degree = ZKC_graph.degree()\n",
    "\n",
    "degree_list = []\n",
    "\n",
    "for (n,d) in degree:\n",
    "    degree_list.append(d)\n",
    "\n",
    "av_degree = sum(degree_list) / len(degree_list)\n",
    "\n",
    "print('The average degree is ' + str(av_degree))"
   ]
  },
  {
   "cell_type": "code",
   "execution_count": null,
   "id": "1cbcdf22",
   "metadata": {},
   "outputs": [],
   "source": [
    "#we now plot the degree distribution to get a better insight\n",
    "plt.hist(degree_list,label='Degree Distribution')\n",
    "plt.axvline(av_degree,color='r',linestyle='dashed',label='Average Degree')\n",
    "plt.legend()\n",
    "plt.ylabel('Number of Nodes')\n",
    "plt.title('Karate Club: Node Degree')"
   ]
  },
  {
   "cell_type": "code",
   "execution_count": null,
   "id": "6f23c1c0",
   "metadata": {},
   "outputs": [],
   "source": [
    "#Now we can compute the local clustering coefficient\n",
    "local_clustering_coefficient = nx.algorithms.cluster.clustering(ZKC_graph)\n",
    "\n",
    "#lets find the average clustering coefficient\n",
    "av_local_clustering_coefficient = sum(local_clustering_coefficient.values())/len(local_clustering_coefficient)\n",
    "\n",
    "#similarly to the degree lets plot the local clustering coefficient distribution\n",
    "plt.hist(local_clustering_coefficient.values(),label='Local Clustering Coefficient Distribution')\n",
    "plt.axvline(av_local_clustering_coefficient,color='r',linestyle='dashed',label='Average Local Clustering Coefficient')\n",
    "plt.legend()\n",
    "plt.ylabel('Number of Nodes')\n",
    "plt.title('Local Clustering Coefficient')\n",
    "plt.show()"
   ]
  },
  {
   "cell_type": "code",
   "execution_count": null,
   "id": "0c52085c",
   "metadata": {},
   "outputs": [],
   "source": [
    "from networkx.algorithms.community.modularity_max import greedy_modularity_communities\n",
    "\n",
    "#preform the community detection\n",
    "c = list(greedy_modularity_communities(ZKC_graph))\n",
    "\n",
    "#Let's find out how many communities we detected\n",
    "print(len(c))"
   ]
  },
  {
   "cell_type": "code",
   "execution_count": null,
   "id": "f6c9c27a",
   "metadata": {},
   "outputs": [],
   "source": [
    "#Lets see these 3 clusters\n",
    "community_0 = sorted(c[0])\n",
    "community_1 = sorted(c[1])\n",
    "community_2 = sorted(c[2])\n",
    "\n",
    "print(community_0)\n",
    "print(community_1)\n",
    "print(community_2)"
   ]
  },
  {
   "cell_type": "code",
   "execution_count": null,
   "id": "5fb71310",
   "metadata": {},
   "outputs": [],
   "source": [
    "#draw each set of nodes in a seperate colour\n",
    "nx.draw_networkx_nodes(ZKC_graph,circ_pos, nodelist=community_0, node_color='g', alpha=0.5)\n",
    "nx.draw_networkx_nodes(ZKC_graph,circ_pos, nodelist=community_1, node_color='r', alpha=0.5)\n",
    "nx.draw_networkx_nodes(ZKC_graph,circ_pos, nodelist=community_2, node_color='b', alpha=0.5)\n",
    "\n",
    "#now we can add edges to the drawing \n",
    "nx.draw_networkx_edges(ZKC_graph,circ_pos,stlye='dashed',width = 0.2)\n",
    "\n",
    "#finally we can add labels to each node corresponding to the final club each member joined \n",
    "nx.draw_networkx_labels(ZKC_graph,circ_pos,club_labels,font_size=9)\n",
    "\n",
    "plt.show()"
   ]
  },
  {
   "cell_type": "code",
   "execution_count": null,
   "id": "f2903ec6",
   "metadata": {},
   "outputs": [],
   "source": [
    "combined_community = community_1 + community_2\n",
    "\n",
    "#draw the network as before\n",
    "nx.draw_networkx_nodes(ZKC_graph, circ_pos, nodelist=community_0, node_color='g', alpha=0.5)\n",
    "nx.draw_networkx_nodes(ZKC_graph, circ_pos, nodelist=combined_community, node_color='m', alpha=0.5)\n",
    "\n",
    "nx.draw_networkx_edges(ZKC_graph, circ_pos,stlye='dashed',width = 0.5)\n",
    "\n",
    "nx.draw_networkx_labels(ZKC_graph, circ_pos, club_labels, font_size=9)\n",
    "\n",
    "plt.show()"
   ]
  }
 ],
 "metadata": {
  "kernelspec": {
   "display_name": "Python 3 (ipykernel)",
   "language": "python",
   "name": "python3"
  },
  "language_info": {
   "codemirror_mode": {
    "name": "ipython",
    "version": 3
   },
   "file_extension": ".py",
   "mimetype": "text/x-python",
   "name": "python",
   "nbconvert_exporter": "python",
   "pygments_lexer": "ipython3",
   "version": "3.9.7"
  }
 },
 "nbformat": 4,
 "nbformat_minor": 5
}
